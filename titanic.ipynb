{
 "cells": [
  {
   "cell_type": "code",
   "execution_count": 1,
   "metadata": {},
   "outputs": [],
   "source": [
    "import pandas as pd\n",
    "import numpy as np\n",
    "import matplotlib.pyplot as plt\n",
    "import seaborn as sns\n",
    "\n",
    "import scipy.stats as stats\n",
    "\n",
    "path = \"/home/pzhurb/bioinf/learn/python/pandas/titanic.csv\"\n",
    "df = pd.read_csv(path)"
   ]
  },
  {
   "cell_type": "code",
   "execution_count": 2,
   "metadata": {},
   "outputs": [
    {
     "name": "stdout",
     "output_type": "stream",
     "text": [
      "(891, 12)\n",
      "PassengerId      int64\n",
      "Survived         int64\n",
      "Pclass           int64\n",
      "Name            object\n",
      "Sex             object\n",
      "Age            float64\n",
      "SibSp            int64\n",
      "Parch            int64\n",
      "Ticket          object\n",
      "Fare           float64\n",
      "Cabin           object\n",
      "Embarked        object\n",
      "dtype: object\n",
      "PassengerId      0\n",
      "Survived         0\n",
      "Pclass           0\n",
      "Name             0\n",
      "Sex              0\n",
      "Age            177\n",
      "SibSp            0\n",
      "Parch            0\n",
      "Ticket           0\n",
      "Fare             0\n",
      "Cabin          687\n",
      "Embarked         2\n",
      "dtype: int64\n"
     ]
    }
   ],
   "source": [
    "# how many columns / rows\n",
    "print(df.shape)"
   ]
  },
  {
   "cell_type": "code",
   "execution_count": null,
   "metadata": {},
   "outputs": [],
   "source": [
    "# какие колонки\n",
    "print(df.dtypes)"
   ]
  },
  {
   "cell_type": "code",
   "execution_count": null,
   "metadata": {},
   "outputs": [],
   "source": [
    "# сколько NA\n",
    "print(df.isnull().sum())"
   ]
  },
  {
   "cell_type": "code",
   "execution_count": null,
   "metadata": {},
   "outputs": [],
   "source": [
    "# распределение по классам\n",
    "pclass_count = df.groupby('Pclass')['Pclass'].count()\n",
    "print(pclass_count)\n",
    "left = [1, 2, 3]\n",
    "hight = pclass_count.tolist()\n",
    "tick_label = ['1', '2', '3']\n",
    "plt.bar(left, hight, tick_label = tick_label, width = 0.8, color = ['red', 'green', 'blue'])\n",
    "plt.title('Распределение по классам')\n",
    "plt.show()"
   ]
  },
  {
   "cell_type": "code",
   "execution_count": 3,
   "metadata": {},
   "outputs": [
    {
     "name": "stdout",
     "output_type": "stream",
     "text": [
      "C    59\n",
      "B    47\n",
      "D    33\n",
      "E    32\n",
      "A    15\n",
      "F    13\n",
      "G     4\n",
      "T     1\n",
      "Name: Cabin, dtype: int64\n",
      "\n"
     ]
    },
    {
     "data": {
      "image/png": "[encoded data removed]",
      "text/plain": [
       "<Figure size 432x288 with 1 Axes>"
      ]
     },
     "metadata": {
      "needs_background": "light"
     },
     "output_type": "display_data"
    }
   ],
   "source": [
    "# распределение по каютам\n",
    "def take_initial(x):\n",
    "    return x[0]\n",
    "# убираем NA\n",
    "cabins = df['Cabin'].dropna()\n",
    "# берем только первые буквы\n",
    "cabins = cabins.apply(take_initial)\n",
    "# подсчитываем количество типов кают\n",
    "cabins_count = cabins.value_counts()\n",
    "print(cabins_count, end='\\n\\n')\n",
    "# график\n",
    "plt.title('Cabin distribution')\n",
    "plt.bar(cabins_count.index, cabins_count.values)\n",
    "plt.show()"
   ]
  },
  {
   "cell_type": "code",
   "execution_count": null,
   "metadata": {},
   "outputs": [],
   "source": [
    "# распределение по возрасту, построение гистограммы\n",
    "ages = df[df['Age'].notnull()]['Age'].values\n",
    "# создание аррея\n",
    "ages_hist = np.histogram(ages, bins=[0,10,20,30,40,50,60,70,80,90])\n",
    "ages_hist_labels = ['0–10', '11–20', '21–30', '31–40', '41–50', '51–60', '61–70', '71–80', '81–90']\n",
    "plt.figure(figsize=(7,7))\n",
    "plt.title('Age distribution')\n",
    "plt.bar(ages_hist_labels, ages_hist[0])\n",
    "plt.xlabel('Age')\n",
    "plt.ylabel('No of passenger')\n",
    "for i, bin in zip(ages_hist[0], range(9)):\n",
    "    plt.text(bin, i+3, str(int(i)), fontsize=12,\n",
    "    horizontalalignment='center', verticalalignment='center')\n",
    "plt.show()"
   ]
  },
  {
   "cell_type": "code",
   "execution_count": null,
   "metadata": {},
   "outputs": [],
   "source": [
    "# узнаем сколько выжило\n",
    "survived_count = df.groupby('Survived')['Survived'].count()\n",
    "print(survived_count)\n",
    "left = [1, 2]\n",
    "hight = survived_count.tolist()\n",
    "tick_label = ['not survived', 'survived']\n",
    "plt.bar(left, hight, tick_label = tick_label, width = 0.8, color = ['red', 'green'])\n",
    "plt.title('Общая статистика выживших')\n",
    "plt.show()"
   ]
  },
  {
   "cell_type": "code",
   "execution_count": null,
   "metadata": {},
   "outputs": [],
   "source": [
    "# сколько выжило в зависимости от гендера\n",
    "survived_sex = df.groupby('Sex')['Survived'].sum()\n",
    "print(survived_sex)\n",
    "left = [1, 2]\n",
    "hight = survived_sex.tolist()\n",
    "tick_label = ['female', 'male']\n",
    "plt.bar(left, hight, tick_label = tick_label, width = 0.8, color = ['red', 'green'])\n",
    "plt.title('Выжившие в зависимости от гендера')\n",
    "plt.show()"
   ]
  },
  {
   "cell_type": "code",
   "execution_count": null,
   "metadata": {},
   "outputs": [],
   "source": [
    "# сколько выжило в зависимости от возраста\n",
    "age_survived = df.loc[df['Survived'] == 1, \"Age\"]\n",
    "age_survived.plot.hist(fc = (0, 0, 1, 0.5), label = \"Выжили\")\n",
    "age_did_not_survive = df.loc[df['Survived'] == 0, \"Age\"]\n",
    "age_did_not_survive.plot.hist(fc=(1, 0, 0, 0.5), label = \"Не выжили\")\n",
    "plt.xlabel(\"Возраст\")\n",
    "plt.ylabel(\"Процент пассажиров\")\n",
    "plt.legend(loc = 'upper right')\n",
    "plt.title(\"Выжившие в зависимости от возраста\")\n",
    "plt.show()"
   ]
  },
  {
   "cell_type": "code",
   "execution_count": null,
   "metadata": {},
   "outputs": [],
   "source": [
    "# Изначальная матрица корреляций\n",
    "train_corr = df.corr(method='pearson')\n",
    "plt.figure(figsize=(18, 12))\n",
    "sns.set(font_scale=1.4)\n",
    "sns.heatmap(train_corr,\n",
    "            annot=True,\n",
    "            linecolor='white',\n",
    "            linewidth=0.5,\n",
    "            cmap='magma')\n",
    "plt.title(\"Изначальная матрица корреляций\")\n",
    "plt.show()"
   ]
  },
  {
   "cell_type": "code",
   "execution_count": null,
   "metadata": {},
   "outputs": [],
   "source": [
    "# Матрица корреляций для женщин\n",
    "dataFemale = df[(df['Sex'] == 'female')]\n",
    "dataFemaleCorr = dataFemale.drop([\"Sex\"], axis = 1).corr()\n",
    "corrF = dataFemaleCorr['Survived'].sort_values(ascending=False)\n",
    "corrF = corrF.drop(['Survived'])"
   ]
  },
  {
   "cell_type": "code",
   "execution_count": null,
   "metadata": {},
   "outputs": [],
   "source": [
    "# heatmap and barplot\n",
    "fig = plt.figure(figsize=(18, 22))\n",
    "sns.set(font_scale=1.4)\n",
    "plt.title('Матрица корреляций для женщин', fontsize=10)\n",
    "sns.heatmap(dataFemaleCorr,\n",
    "            annot=True,\n",
    "            linecolor='white',\n",
    "            linewidth=0.5,\n",
    "            cmap='magma')\n",
    "plt.title(\"Матрица корреляций для женщин\")\n",
    "plt.show()\n"
   ]
  }
 ],
 "metadata": {
  "kernelspec": {
   "display_name": "Python 3",
   "language": "python",
   "name": "python3"
  },
  "language_info": {
   "codemirror_mode": {
    "name": "ipython",
    "version": 3
   },
   "file_extension": ".py",
   "mimetype": "text/x-python",
   "name": "python",
   "nbconvert_exporter": "python",
   "pygments_lexer": "ipython3",
   "version": "3.7.3"
  }
 },
 "nbformat": 4,
 "nbformat_minor": 2
}
